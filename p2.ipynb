{
 "cells": [
  {
   "cell_type": "code",
   "execution_count": 1,
   "id": "18c63c5b",
   "metadata": {},
   "outputs": [],
   "source": [
    "import cv2 "
   ]
  },
  {
   "cell_type": "code",
   "execution_count": 2,
   "id": "bb0beb0c",
   "metadata": {},
   "outputs": [],
   "source": [
    "face = cv2.CascadeClassifier(cv2.data.haarcascades + 'haarcascade_frontalface_default.xml')\n",
    "eye = cv2.CascadeClassifier(cv2.data.haarcascades + 'haarcascade_eye.xml')\n",
    "noses = cv2.CascadeClassifier(\"haarcascade_mcs_nose.xml\")\n",
    "mouth = cv2.CascadeClassifier(\"haarcascade_mcs_mouth.xml\")\n"
   ]
  },
  {
   "cell_type": "code",
   "execution_count": 19,
   "id": "834cacef",
   "metadata": {},
   "outputs": [],
   "source": [
    "cap = cv2.VideoCapture(0)\n",
    "while cap.isOpened():\n",
    "    ret , frame = cap.read()\n",
    "    if not ret:\n",
    "        break\n",
    "    img = frame\n",
    "    frame = cv2.cvtColor(frame,cv2.COLOR_BGR2GRAY)\n",
    "    faces = face.detectMultiScale(frame , minNeighbors=10,scaleFactor=1.2)\n",
    "    for (x,y,w,h) in faces:\n",
    "        # cv2.rectangle( img, (x,y),(x+w,y+h),(20,0,0),2)\n",
    "        cv2.circle(img,(int(x+w/2),int(y+h/2)),int(h/1.5),(0,0,0),2)\n",
    "        roi_gray = frame[y:y+h,x:x+w]\n",
    "        roi_color = img[y:y+h,x:x+w]\n",
    "        mth = mouth.detectMultiScale(roi_gray,scaleFactor=2.0,minNeighbors=22)\n",
    "        nose = noses.detectMultiScale(roi_gray,scaleFactor=1.1,minNeighbors=20)\n",
    "        eyes = eye.detectMultiScale(roi_gray,scaleFactor=1.1,minNeighbors=10)\n",
    "        for (x,y,w,h) in eyes:\n",
    "            \n",
    "            cv2.rectangle(roi_color , (x,y),(x+w,y+h),(253,247,56),2)\n",
    "        for (x,y,w,h) in nose:\n",
    "            cv2.rectangle(roi_color , (x,y),(x+w,y+h),(56,247,56),2) \n",
    "        for (x,y,w,h) in mth:\n",
    "            cv2.rectangle(roi_color , (x,y),(x+w,y+h),(253,56,257),2)       \n",
    "    cv2.imshow('face and eye',img)\n",
    "    if cv2.waitKey(1) & 0xFF == ord('q'):\n",
    "        break\n",
    "        \n",
    "cap.release()\n",
    "cv2.destroyAllWindows()\n",
    "\n",
    "    "
   ]
  }
 ],
 "metadata": {
  "kernelspec": {
   "display_name": "Python 3",
   "language": "python",
   "name": "python3"
  },
  "language_info": {
   "codemirror_mode": {
    "name": "ipython",
    "version": 3
   },
   "file_extension": ".py",
   "mimetype": "text/x-python",
   "name": "python",
   "nbconvert_exporter": "python",
   "pygments_lexer": "ipython3",
   "version": "3.10.11"
  }
 },
 "nbformat": 4,
 "nbformat_minor": 5
}
