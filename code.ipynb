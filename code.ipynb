import cv2 
cap = cv2.VideoCapture(0)
while cap.isOpened():
    ret , frame = cap.read()
    if not ret:
        break
    img = frame
    frame = cv2.cvtColor(frame,cv2.COLOR_BGR2GRAY)
    faces = face.detectMultiScale(frame , minNeighbors=10,scaleFactor=1.2)
    for (x,y,w,h) in faces:
        # cv2.rectangle( img, (x,y),(x+w,y+h),(20,0,0),2)
        cv2.circle(img,(int(x+w/2),int(y+h/2)),int(h/1.5),(0,0,0),2)
        roi_gray = frame[y:y+h,x:x+w]
        roi_color = img[y:y+h,x:x+w]
        mth = mouth.detectMultiScale(roi_gray,scaleFactor=2.0,minNeighbors=22)
        nose = noses.detectMultiScale(roi_gray,scaleFactor=1.1,minNeighbors=20)
        eyes = eye.detectMultiScale(roi_gray,scaleFactor=1.1,minNeighbors=10)
        for (x,y,w,h) in eyes:
            
            cv2.rectangle(roi_color , (x,y),(x+w,y+h),(253,247,56),2)
        for (x,y,w,h) in nose:
            cv2.rectangle(roi_color , (x,y),(x+w,y+h),(56,247,56),2) 
        for (x,y,w,h) in mth:
            cv2.rectangle(roi_color , (x,y),(x+w,y+h),(253,56,257),2)       
    cv2.imshow('face and eye',img)
    if cv2.waitKey(1) & 0xFF == ord('q'):
        break
        
cap.release()
cv2.destroyAllWindows()

    
